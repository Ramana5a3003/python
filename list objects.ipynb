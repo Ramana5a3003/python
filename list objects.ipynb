{
 "cells": [
  {
   "cell_type": "code",
   "execution_count": 1,
   "id": "4530c247",
   "metadata": {},
   "outputs": [
    {
     "name": "stdout",
     "output_type": "stream",
     "text": [
      "[10, 20, 30, 40]\n",
      "<class 'list'>\n"
     ]
    }
   ],
   "source": [
    "#create\n",
    "l1=[10,20,30,40]\n",
    "print(l1)\n",
    "print(type(l1))"
   ]
  },
  {
   "cell_type": "code",
   "execution_count": 2,
   "id": "07c43b57-190e-4d1d-9621-323dbe3b0b9a",
   "metadata": {},
   "outputs": [
    {
     "name": "stdout",
     "output_type": "stream",
     "text": [
      "[10, 10, 10, 20.5, 'rahul', True, {10}]\n",
      "<class 'list'>\n"
     ]
    }
   ],
   "source": [
    "l2=[10,10,10,20.5,\"rahul\",True,{10}]\n",
    "print(l2)\n",
    "print(type(l2))"
   ]
  },
  {
   "cell_type": "code",
   "execution_count": 8,
   "id": "6eaba90f-9340-4600-ba0e-d6b3e2f49fae",
   "metadata": {},
   "outputs": [
    {
     "name": "stdout",
     "output_type": "stream",
     "text": [
      "101\n",
      "102\n",
      "103\n",
      "104\n"
     ]
    }
   ],
   "source": [
    "eids=[101,102,103,104]\n",
    "#index 0   1   2   4\n",
    "#index-4  -3  -2  -1\n",
    "print(eids[-4])\n",
    "print(eids[-3])\n",
    "print(eids[-2])\n",
    "print(eids[-1])"
   ]
  },
  {
   "cell_type": "code",
   "execution_count": 9,
   "id": "f6a72927-933d-40d0-a55d-c55fbdf59890",
   "metadata": {},
   "outputs": [
    {
     "name": "stdout",
     "output_type": "stream",
     "text": [
      "rahul\n",
      "sonia\n",
      "priyanka\n",
      "modi\n"
     ]
    }
   ],
   "source": [
    "enames=[\"rahul\",\"sonia\",\"priyanka\",\"modi\"]\n",
    "#index     0       1        2        4\n",
    "#for loop\n",
    "for ename in enames:\n",
    "    print(ename)\n",
    "    "
   ]
  },
  {
   "cell_type": "code",
   "execution_count": 12,
   "id": "924cd15b-a410-46d9-9da8-a97570ed8350",
   "metadata": {},
   "outputs": [
    {
     "name": "stdout",
     "output_type": "stream",
     "text": [
      "rahul\n",
      "sonia\n",
      "priyanka\n",
      "modi\n"
     ]
    }
   ],
   "source": [
    "enames=[\"rahul\",\"sonia\",\"priyanka\",\"modi\"]\n",
    "#index     0       1        2        3\n",
    "#while loop\n",
    "i=0\n",
    "while i<=3:\n",
    "    print(enames[i])\n",
    "    i=i+1"
   ]
  },
  {
   "cell_type": "code",
   "execution_count": 15,
   "id": "a19aa1c8-cec4-43bb-8424-3ed27bfe6223",
   "metadata": {},
   "outputs": [
    {
     "name": "stdout",
     "output_type": "stream",
     "text": [
      "225\n"
     ]
    }
   ],
   "source": [
    "marks=[35,36,37,38,39,40]\n",
    "#index 0  1   2  3  4  5\n",
    "total_marks=0\n",
    "i=0\n",
    "while i<=5:\n",
    "    total_marks=total_marks+marks[i]\n",
    "    i=i+1\n",
    "print(total_marks)"
   ]
  },
  {
   "cell_type": "code",
   "execution_count": 16,
   "id": "aab3fa15-2415-46b0-8aa7-54b51d2e95e1",
   "metadata": {},
   "outputs": [
    {
     "name": "stdin",
     "output_type": "stream",
     "text": [
      "enter data [10,20,30,40]\n"
     ]
    },
    {
     "name": "stdout",
     "output_type": "stream",
     "text": [
      "[10, 20, 30, 40]\n",
      "<class 'list'>\n"
     ]
    }
   ],
   "source": [
    "#how to create/differnet ways to create list objects\n",
    "l1=[]\n",
    "l2=[10,20,30,40]\n",
    "l3=eval(input(\"enter data\"))\n",
    "print(l3)\n",
    "print(type(l3))"
   ]
  },
  {
   "cell_type": "code",
   "execution_count": null,
   "id": "96ba958d-d164-4831-a64e-f689f58d1ab1",
   "metadata": {},
   "outputs": [],
   "source": []
  }
 ],
 "metadata": {
  "kernelspec": {
   "display_name": "Python 3 (ipykernel)",
   "language": "python",
   "name": "python3"
  },
  "language_info": {
   "codemirror_mode": {
    "name": "ipython",
    "version": 3
   },
   "file_extension": ".py",
   "mimetype": "text/x-python",
   "name": "python",
   "nbconvert_exporter": "python",
   "pygments_lexer": "ipython3",
   "version": "3.12.5"
  }
 },
 "nbformat": 4,
 "nbformat_minor": 5
}
