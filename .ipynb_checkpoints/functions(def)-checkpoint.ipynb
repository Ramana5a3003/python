{
 "cells": [
  {
   "cell_type": "code",
   "execution_count": 6,
   "id": "42826ec1-c82a-48ee-b945-3dd8428b3ea5",
   "metadata": {},
   "outputs": [
    {
     "name": "stdout",
     "output_type": "stream",
     "text": [
      "100\n",
      "-100\n"
     ]
    }
   ],
   "source": [
    "#positional arguments\n",
    "def calc(b,a):\n",
    "    print(a-b)\n",
    "calc(100,200)\n",
    "calc(200,100)"
   ]
  },
  {
   "cell_type": "code",
   "execution_count": 11,
   "id": "e798e3ab-15d5-45f2-8a54-c7cde9e13972",
   "metadata": {},
   "outputs": [
    {
     "name": "stdout",
     "output_type": "stream",
     "text": [
      "60\n"
     ]
    },
    {
     "ename": "TypeError",
     "evalue": "calc() missing 1 required positional argument: 'c'",
     "output_type": "error",
     "traceback": [
      "\u001b[1;31m---------------------------------------------------------------------------\u001b[0m",
      "\u001b[1;31mTypeError\u001b[0m                                 Traceback (most recent call last)",
      "Cell \u001b[1;32mIn[11], line 4\u001b[0m\n\u001b[0;32m      2\u001b[0m     \u001b[38;5;28mprint\u001b[39m(a\u001b[38;5;241m+\u001b[39mb\u001b[38;5;241m+\u001b[39mc)\n\u001b[0;32m      3\u001b[0m calc(\u001b[38;5;241m10\u001b[39m,\u001b[38;5;241m20\u001b[39m,\u001b[38;5;241m30\u001b[39m)\n\u001b[1;32m----> 4\u001b[0m \u001b[43mcalc\u001b[49m\u001b[43m(\u001b[49m\u001b[38;5;241;43m10\u001b[39;49m\u001b[43m,\u001b[49m\u001b[38;5;241;43m20\u001b[39;49m\u001b[43m)\u001b[49m\n\u001b[0;32m      5\u001b[0m calc(\u001b[38;5;241m1\u001b[39m,\u001b[38;5;241m2\u001b[39m)\n",
      "\u001b[1;31mTypeError\u001b[0m: calc() missing 1 required positional argument: 'c'"
     ]
    }
   ],
   "source": [
    "#default arguments\n",
    "def calc(a,b,c):\n",
    "    print(a+b+c)\n",
    "calc(10,20,30)\n",
    "calc(10,20)\n",
    "calc(1,2)"
   ]
  },
  {
   "cell_type": "code",
   "execution_count": 12,
   "id": "4cf9676a-4a8e-4104-9a65-510a2ae0d2f5",
   "metadata": {},
   "outputs": [
    {
     "name": "stdout",
     "output_type": "stream",
     "text": [
      "60\n",
      "31\n",
      "4\n"
     ]
    }
   ],
   "source": [
    "#defalut value must in last\n",
    "def calc(a,b,c=1):\n",
    "    print(a+b+c)\n",
    "calc(10,20,30)\n",
    "calc(10,20)\n",
    "calc(1,2)"
   ]
  },
  {
   "cell_type": "code",
   "execution_count": 13,
   "id": "ac3dcb6e-1fc9-4b2a-a3ad-69f77e676ae2",
   "metadata": {},
   "outputs": [
    {
     "name": "stdout",
     "output_type": "stream",
     "text": [
      "-100\n",
      "-100\n"
     ]
    }
   ],
   "source": [
    "#keyword arguments\n",
    "def calc(a,b):\n",
    "    print(a-b)\n",
    "calc(a=100,b=200)\n",
    "calc(b=200,a=100)"
   ]
  },
  {
   "cell_type": "code",
   "execution_count": 21,
   "id": "cd47feca-f0ee-4464-b226-6432fd77d21a",
   "metadata": {},
   "outputs": [
    {
     "name": "stdout",
     "output_type": "stream",
     "text": [
      "()\n",
      "(10,)\n",
      "(10, 20)\n",
      "(10, 20, 30)\n",
      "(10, 20, 30, 40)\n",
      "(10, 20, 30, 40, 50)\n"
     ]
    }
   ],
   "source": [
    "#variable length arguments\n",
    "def calc(*a):\n",
    "    print(a)\n",
    "    #print(type(a))\n",
    "calc()\n",
    "calc(10)\n",
    "calc(10,20)\n",
    "calc(10,20,30)\n",
    "calc(10,20,30,40)\n",
    "calc(10,20,30,40,50)"
   ]
  },
  {
   "cell_type": "code",
   "execution_count": 23,
   "id": "f199ce12-cd60-48ef-a90b-ad5728d6c954",
   "metadata": {},
   "outputs": [
    {
     "name": "stdout",
     "output_type": "stream",
     "text": [
      "100\n",
      "150\n"
     ]
    }
   ],
   "source": [
    "#sum using in variable len arg\n",
    "def calc(*a):\n",
    "    print(sum(a))\n",
    "calc(10,20,30,40)\n",
    "calc(10,20,30,40,50)"
   ]
  },
  {
   "cell_type": "code",
   "execution_count": 24,
   "id": "3fa5e5e9-41d6-4268-bf7b-d67b0e17a276",
   "metadata": {},
   "outputs": [
    {
     "name": "stdout",
     "output_type": "stream",
     "text": [
      "outer function\n"
     ]
    },
    {
     "ename": "NameError",
     "evalue": "name 'inner' is not defined",
     "output_type": "error",
     "traceback": [
      "\u001b[1;31m---------------------------------------------------------------------------\u001b[0m",
      "\u001b[1;31mNameError\u001b[0m                                 Traceback (most recent call last)",
      "Cell \u001b[1;32mIn[24], line 9\u001b[0m\n\u001b[0;32m      6\u001b[0m         \u001b[38;5;28mprint\u001b[39m(\u001b[38;5;124m\"\u001b[39m\u001b[38;5;124minner function\u001b[39m\u001b[38;5;124m\"\u001b[39m)\n\u001b[0;32m      8\u001b[0m outer()\n\u001b[1;32m----> 9\u001b[0m \u001b[43minner\u001b[49m()\n",
      "\u001b[1;31mNameError\u001b[0m: name 'inner' is not defined"
     ]
    }
   ],
   "source": [
    "#what is inner function\n",
    "#how to invoke inner function from outside\n",
    "def outer():\n",
    "    print(\"outer function\")\n",
    "    def inner():\n",
    "        print(\"inner function\")\n",
    "\n",
    "outer()\n",
    "inner()"
   ]
  },
  {
   "cell_type": "code",
   "execution_count": 26,
   "id": "2acec3d3-8c50-4804-b057-dce3e9e64bd1",
   "metadata": {},
   "outputs": [
    {
     "name": "stdout",
     "output_type": "stream",
     "text": [
      "outer function\n",
      "\n"
     ]
    }
   ],
   "source": [
    "def outer():\n",
    "    print(\"outer function\")\n",
    "    def inner():\n",
    "        print(\"inner function\")\n",
    "    return 100    \n",
    "    \n",
    "value=outer()\n",
    "print()"
   ]
  },
  {
   "cell_type": "code",
   "execution_count": 29,
   "id": "45a311bf-24b8-4cc5-8d3d-4ca46924fa0f",
   "metadata": {},
   "outputs": [
    {
     "name": "stdout",
     "output_type": "stream",
     "text": [
      "outer function\n",
      "inner function\n",
      "inner function\n"
     ]
    }
   ],
   "source": [
    "def outer():\n",
    "    print(\"outer function\")\n",
    "    def inner():\n",
    "        print(\"inner function\")\n",
    "    return inner   \n",
    "    \n",
    "inner=outer()\n",
    "inner()\n",
    "inner()"
   ]
  },
  {
   "cell_type": "code",
   "execution_count": 34,
   "id": "1999d83e-e458-49ab-8018-7ab572c982c1",
   "metadata": {},
   "outputs": [
    {
     "name": "stdout",
     "output_type": "stream",
     "text": [
      "101\n",
      "<class 'function'>\n"
     ]
    }
   ],
   "source": [
    "#what is nameless function\n",
    "x=lambda x:x+1\n",
    "r1=x(100)\n",
    "print(r1)\n",
    "print(type(x))"
   ]
  },
  {
   "cell_type": "code",
   "execution_count": 37,
   "id": "7b05d920-0748-4062-b5f5-27ca2e8579c3",
   "metadata": {},
   "outputs": [
    {
     "name": "stdout",
     "output_type": "stream",
     "text": [
      "<class 'map'>\n",
      "[36, 16, 11]\n",
      "<map object at 0x000001FB4B2CBC40>\n"
     ]
    }
   ],
   "source": [
    "# using map in bult function\n",
    "def addplus(marks):\n",
    "    return marks+1\n",
    "marks=[35,15,10]\n",
    "\n",
    "#map(function,seq)\n",
    "obj=map(addplus,marks)\n",
    "print(type(obj))\n",
    "print(list(obj))\n",
    "print(obj)"
   ]
  },
  {
   "cell_type": "code",
   "execution_count": 39,
   "id": "820695f1-6fc4-4dd5-8c41-9b2370ecadff",
   "metadata": {},
   "outputs": [
    {
     "name": "stdout",
     "output_type": "stream",
     "text": [
      "[36, 16, 11]\n"
     ]
    }
   ],
   "source": [
    "# map using nameless function\n",
    "print(list(map(lambda m:m+1,[35,15,10])))"
   ]
  },
  {
   "cell_type": "code",
   "execution_count": null,
   "id": "e7ab6e14-0681-4e28-9d94-164dae5ab6b9",
   "metadata": {},
   "outputs": [],
   "source": []
  }
 ],
 "metadata": {
  "kernelspec": {
   "display_name": "Python 3 (ipykernel)",
   "language": "python",
   "name": "python3"
  },
  "language_info": {
   "codemirror_mode": {
    "name": "ipython",
    "version": 3
   },
   "file_extension": ".py",
   "mimetype": "text/x-python",
   "name": "python",
   "nbconvert_exporter": "python",
   "pygments_lexer": "ipython3",
   "version": "3.12.5"
  }
 },
 "nbformat": 4,
 "nbformat_minor": 5
}
