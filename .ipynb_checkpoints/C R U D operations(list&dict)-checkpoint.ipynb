{
 "cells": [
  {
   "cell_type": "code",
   "execution_count": 3,
   "id": "e1df9bb0-5df1-42b1-8533-f7fee9046248",
   "metadata": {},
   "outputs": [
    {
     "name": "stdout",
     "output_type": "stream",
     "text": [
      "{102, 103, 104, 105}\n"
     ]
    }
   ],
   "source": [
    "eids={101,102,103,104,105}\n",
    "eids.pop()\n",
    "print(eids)"
   ]
  },
  {
   "cell_type": "code",
   "execution_count": 4,
   "id": "87d51f7c-8eb3-48d7-8901-618a71d4425f",
   "metadata": {},
   "outputs": [
    {
     "ename": "KeyError",
     "evalue": "106",
     "output_type": "error",
     "traceback": [
      "\u001b[1;31m---------------------------------------------------------------------------\u001b[0m",
      "\u001b[1;31mKeyError\u001b[0m                                  Traceback (most recent call last)",
      "Cell \u001b[1;32mIn[4], line 2\u001b[0m\n\u001b[0;32m      1\u001b[0m eids\u001b[38;5;241m=\u001b[39m{\u001b[38;5;241m101\u001b[39m,\u001b[38;5;241m102\u001b[39m,\u001b[38;5;241m103\u001b[39m,\u001b[38;5;241m104\u001b[39m,\u001b[38;5;241m105\u001b[39m}\n\u001b[1;32m----> 2\u001b[0m \u001b[43meids\u001b[49m\u001b[38;5;241;43m.\u001b[39;49m\u001b[43mremove\u001b[49m\u001b[43m(\u001b[49m\u001b[38;5;241;43m106\u001b[39;49m\u001b[43m)\u001b[49m\n\u001b[0;32m      3\u001b[0m \u001b[38;5;28mprint\u001b[39m(eids)\n",
      "\u001b[1;31mKeyError\u001b[0m: 106"
     ]
    }
   ],
   "source": [
    "eids={101,102,103,104,105}\n",
    "eids.remove(106)\n",
    "print(eids)"
   ]
  },
  {
   "cell_type": "code",
   "execution_count": 5,
   "id": "583b1fc6-13ba-4772-a19c-6c128eb2af9b",
   "metadata": {},
   "outputs": [
    {
     "name": "stdout",
     "output_type": "stream",
     "text": [
      "{101, 102, 103, 104, 105}\n"
     ]
    }
   ],
   "source": [
    "eids={101,102,103,104,105}\n",
    "eids.discard(106)\n",
    "print(eids)"
   ]
  },
  {
   "cell_type": "code",
   "execution_count": 13,
   "id": "4d33016b-d807-495b-b85d-f141ef7e89a6",
   "metadata": {},
   "outputs": [
    {
     "name": "stdout",
     "output_type": "stream",
     "text": [
      "{40, 10, 50, 20, 60, 30}\n",
      "{40, 30}\n",
      "{10, 20}\n",
      "{10, 20}\n",
      "{50, 60}\n",
      "{50, 60}\n",
      "{10, 50, 20, 60}\n"
     ]
    }
   ],
   "source": [
    "s1={10,20,30,40}\n",
    "s2={30,40,50,60}\n",
    "print(s1.union(s2))\n",
    "print(s1.intersection(s2))\n",
    "print(s1.difference(s2))\n",
    "print(s1-s2)\n",
    "print(s2.difference(s1))\n",
    "print(s2-s1)\n",
    "print(s1.symmetric_difference(s2))"
   ]
  },
  {
   "cell_type": "code",
   "execution_count": 14,
   "id": "33cffe27-f793-4f44-af80-6169c427948f",
   "metadata": {},
   "outputs": [
    {
     "name": "stdout",
     "output_type": "stream",
     "text": [
      "{}\n"
     ]
    }
   ],
   "source": [
    "d1={}\n",
    "print(d1)"
   ]
  },
  {
   "cell_type": "code",
   "execution_count": 15,
   "id": "4dd2051b-4ba4-4bb8-8e94-4fb56dfb0873",
   "metadata": {},
   "outputs": [
    {
     "name": "stdout",
     "output_type": "stream",
     "text": [
      "<class 'dict'>\n"
     ]
    }
   ],
   "source": [
    "d1={}\n",
    "print(type(d1))"
   ]
  },
  {
   "cell_type": "code",
   "execution_count": 16,
   "id": "4300e12e-662f-4a97-a997-f7b8bb27014e",
   "metadata": {},
   "outputs": [
    {
     "name": "stdout",
     "output_type": "stream",
     "text": [
      "{'eid': 101, 'ename': 'Rahul', 'esal': 45000.45, 'avail': True}\n"
     ]
    }
   ],
   "source": [
    "emp={\n",
    "    'eid':101,\n",
    "    'ename':'Rahul',\n",
    "    'esal':45000.45,\n",
    "    'avail':True\n",
    "}\n",
    "print(emp)"
   ]
  },
  {
   "cell_type": "code",
   "execution_count": 17,
   "id": "6ff93e27-2678-46ff-a3af-56a8277f99c7",
   "metadata": {},
   "outputs": [
    {
     "name": "stdout",
     "output_type": "stream",
     "text": [
      "{'eid': 105}\n"
     ]
    }
   ],
   "source": [
    "#list and tuple-duplicate elements are allowed\n",
    "#set-duplicates elements are not allowed\n",
    "#dict -duplicates keys are not allowed\n",
    "emp={\n",
    "    'eid':101,\n",
    "    'eid':102,\n",
    "    'eid':103,\n",
    "    'eid':104,\n",
    "    'eid':105,\n",
    "}\n",
    "print(emp)"
   ]
  },
  {
   "cell_type": "code",
   "execution_count": 18,
   "id": "15790277-ed97-4d32-a16d-2783348d7f7b",
   "metadata": {},
   "outputs": [
    {
     "ename": "KeyError",
     "evalue": "0",
     "output_type": "error",
     "traceback": [
      "\u001b[1;31m---------------------------------------------------------------------------\u001b[0m",
      "\u001b[1;31mKeyError\u001b[0m                                  Traceback (most recent call last)",
      "Cell \u001b[1;32mIn[18], line 7\u001b[0m\n\u001b[0;32m      1\u001b[0m emp\u001b[38;5;241m=\u001b[39m{\n\u001b[0;32m      2\u001b[0m     \u001b[38;5;124m'\u001b[39m\u001b[38;5;124meid\u001b[39m\u001b[38;5;124m'\u001b[39m:\u001b[38;5;241m101\u001b[39m,\n\u001b[0;32m      3\u001b[0m     \u001b[38;5;124m'\u001b[39m\u001b[38;5;124mename\u001b[39m\u001b[38;5;124m'\u001b[39m:\u001b[38;5;124m'\u001b[39m\u001b[38;5;124mRahul\u001b[39m\u001b[38;5;124m'\u001b[39m,\n\u001b[0;32m      4\u001b[0m     \u001b[38;5;124m'\u001b[39m\u001b[38;5;124mesal\u001b[39m\u001b[38;5;124m'\u001b[39m:\u001b[38;5;241m45000.45\u001b[39m,\n\u001b[0;32m      5\u001b[0m     \u001b[38;5;124m'\u001b[39m\u001b[38;5;124mavail\u001b[39m\u001b[38;5;124m'\u001b[39m:\u001b[38;5;28;01mTrue\u001b[39;00m\n\u001b[0;32m      6\u001b[0m }\n\u001b[1;32m----> 7\u001b[0m \u001b[38;5;28mprint\u001b[39m(\u001b[43memp\u001b[49m\u001b[43m[\u001b[49m\u001b[38;5;241;43m0\u001b[39;49m\u001b[43m]\u001b[49m)\n",
      "\u001b[1;31mKeyError\u001b[0m: 0"
     ]
    }
   ],
   "source": [
    "#undex is not applicable\n",
    "emp={\n",
    "    'eid':101,\n",
    "    'ename':'Rahul',\n",
    "    'esal':45000.45,\n",
    "    'avail':True\n",
    "}\n",
    "print(emp[0])"
   ]
  },
  {
   "cell_type": "code",
   "execution_count": 19,
   "id": "a64a9d45-b198-446e-9eaf-c0e84d7f5930",
   "metadata": {},
   "outputs": [
    {
     "name": "stdout",
     "output_type": "stream",
     "text": [
      "101\n"
     ]
    }
   ],
   "source": [
    "emp={\n",
    "    'eid':101,\n",
    "    'ename':'Rahul',\n",
    "    'esal':45000.45,\n",
    "    'avail':True\n",
    "}\n",
    "print(emp['eid'])"
   ]
  },
  {
   "cell_type": "code",
   "execution_count": 20,
   "id": "029d3254-5255-40c1-b80d-89c961f38d0c",
   "metadata": {},
   "outputs": [
    {
     "name": "stdout",
     "output_type": "stream",
     "text": [
      "101\n",
      "Rahul\n",
      "45000.45\n",
      "True\n"
     ]
    }
   ],
   "source": [
    "emp={\n",
    "    'eid':101,\n",
    "    'ename':'Rahul',\n",
    "    'esal':45000.45,\n",
    "    'avail':True\n",
    "}\n",
    "print(emp['eid'])\n",
    "print(emp['ename'])\n",
    "print(emp['esal'])\n",
    "print(emp['avail'])"
   ]
  },
  {
   "cell_type": "code",
   "execution_count": 22,
   "id": "76b490c3-9730-4cc1-9956-d0e0c7e6b979",
   "metadata": {},
   "outputs": [
    {
     "name": "stdout",
     "output_type": "stream",
     "text": [
      "101\n"
     ]
    }
   ],
   "source": [
    "emp={\n",
    "    'eid':101,\n",
    "    'ename':'Rahul',\n",
    "    'esal':45000.45,\n",
    "    'avail':True\n",
    "}\n",
    "print(emp.get('eid'))"
   ]
  },
  {
   "cell_type": "code",
   "execution_count": 23,
   "id": "6d8ed162-0f23-4343-8b2c-922ed69f9bd5",
   "metadata": {},
   "outputs": [
    {
     "name": "stdout",
     "output_type": "stream",
     "text": [
      "101\n",
      "Rahul\n",
      "45000.45\n",
      "True\n"
     ]
    }
   ],
   "source": [
    "emp={\n",
    "    'eid':101,\n",
    "    'ename':'Rahul',\n",
    "    'esal':45000.45,\n",
    "    'avail':True\n",
    "}\n",
    "print(emp.get('eid'))\n",
    "print(emp.get('ename'))\n",
    "print(emp.get('esal'))\n",
    "print(emp.get('avail'))"
   ]
  },
  {
   "cell_type": "code",
   "execution_count": 26,
   "id": "525608d5-75a9-48ef-9624-c33d0ce12af4",
   "metadata": {},
   "outputs": [
    {
     "name": "stdout",
     "output_type": "stream",
     "text": [
      "eid\n",
      "ename\n",
      "esal\n",
      "avail\n"
     ]
    }
   ],
   "source": [
    "emp={\n",
    "    'eid':101,\n",
    "    'ename':'Rahul',\n",
    "    'esal':45000.45,\n",
    "    'avail':True\n",
    "}\n",
    "for keys in emp.keys():\n",
    "    print(keys)"
   ]
  },
  {
   "cell_type": "code",
   "execution_count": 30,
   "id": "10c419de-0d2f-47d1-aa38-160aaea16406",
   "metadata": {},
   "outputs": [
    {
     "name": "stdout",
     "output_type": "stream",
     "text": [
      "eid : 101\n",
      "ename : Rahul\n",
      "esal : 45000.45\n",
      "avail : True\n"
     ]
    }
   ],
   "source": [
    "emp={\n",
    "    'eid':101,\n",
    "    'ename':'Rahul',\n",
    "    'esal':45000.45,\n",
    "    'avail':True\n",
    "}\n",
    "for keys,values in emp.items():\n",
    "    print(keys ,\":\", values)"
   ]
  },
  {
   "cell_type": "code",
   "execution_count": null,
   "id": "f9f4bfe6-bccd-4126-85dd-832e791a4f33",
   "metadata": {},
   "outputs": [],
   "source": []
  }
 ],
 "metadata": {
  "kernelspec": {
   "display_name": "Python 3 (ipykernel)",
   "language": "python",
   "name": "python3"
  },
  "language_info": {
   "codemirror_mode": {
    "name": "ipython",
    "version": 3
   },
   "file_extension": ".py",
   "mimetype": "text/x-python",
   "name": "python",
   "nbconvert_exporter": "python",
   "pygments_lexer": "ipython3",
   "version": "3.12.5"
  }
 },
 "nbformat": 4,
 "nbformat_minor": 5
}
