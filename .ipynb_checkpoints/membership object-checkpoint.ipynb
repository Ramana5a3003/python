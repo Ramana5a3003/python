{
 "cells": [
  {
   "cell_type": "code",
   "execution_count": 5,
   "id": "6a4b6fe3",
   "metadata": {},
   "outputs": [
    {
     "name": "stdout",
     "output_type": "stream",
     "text": [
      "[10, 20, 30, 40]\n",
      "[10, 20, 30, 40]\n",
      "(10, 20, 30, 40)\n",
      "{40, 10, 20, 30}\n",
      "{'id': 101, 'name': 'rahul'}\n",
      "range(10, 20)\n",
      "b'\\n\\x14\\x1e('\n",
      "bytearray(b'\\n\\x14\\x1e(')\n",
      "frozenset({40, 10, 20, 30})\n"
     ]
    }
   ],
   "source": [
    "#sequence of python\n",
    "#string\n",
    "ename=\"rahul\" \n",
    "#list\n",
    "l=[10,20,30,40]  \n",
    "#tuple\n",
    "t=(10,20,30,40)    \n",
    " #set\n",
    "s={10,20,30,40} \n",
    "#dict\n",
    "d={\n",
    "    'id':101,\n",
    "    'name':'rahul',\n",
    "    \n",
    "}   \n",
    "   #range\n",
    "r=range(10,20) \n",
    " #byte\n",
    "b=bytes(l)   \n",
    "  #bytearray\n",
    "ba=bytearray(l)\n",
    " #frozen set\n",
    "fs=frozenset(s)                    \n",
    "print(l)\n",
    "print(l)\n",
    "print(t)\n",
    "print(s)\n",
    "print(d)\n",
    "print(r)\n",
    "print(b)\n",
    "print(ba)\n",
    "print(fs)"
   ]
  },
  {
   "cell_type": "code",
   "execution_count": null,
   "id": "06e00b2f",
   "metadata": {},
   "outputs": [],
   "source": []
  }
 ],
 "metadata": {
  "kernelspec": {
   "display_name": "Python 3",
   "language": "python",
   "name": "python3"
  },
  "language_info": {
   "codemirror_mode": {
    "name": "ipython",
    "version": 3
   },
   "file_extension": ".py",
   "mimetype": "text/x-python",
   "name": "python",
   "nbconvert_exporter": "python",
   "pygments_lexer": "ipython3",
   "version": "3.6.8"
  }
 },
 "nbformat": 4,
 "nbformat_minor": 5
}
