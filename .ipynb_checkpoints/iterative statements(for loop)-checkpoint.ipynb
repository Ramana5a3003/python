{
 "cells": [
  {
   "cell_type": "code",
   "execution_count": null,
   "id": "01cd607d-c95d-4944-9357-c50f17e429ad",
   "metadata": {},
   "outputs": [],
   "source": [
    "# using for loop"
   ]
  },
  {
   "cell_type": "code",
   "execution_count": 2,
   "id": "2f025b8f-e7d7-4871-823a-fa7ae5effa2b",
   "metadata": {},
   "outputs": [
    {
     "name": "stdin",
     "output_type": "stream",
     "text": [
      "enter salary 40000\n"
     ]
    },
    {
     "name": "stdout",
     "output_type": "stream",
     "text": [
      "eligible for EMI\n"
     ]
    }
   ],
   "source": [
    "sal=int(input(\"enter salary\"))\n",
    "if sal>30000:\n",
    "    print(\"eligible for EMI\")\n",
    "else:\n",
    "    print(\"not elegible for EMI\")\n",
    "    "
   ]
  },
  {
   "cell_type": "code",
   "execution_count": 4,
   "id": "5d9bdafb-3f42-40d0-bcba-59e5f328c1ae",
   "metadata": {},
   "outputs": [
    {
     "name": "stdin",
     "output_type": "stream",
     "text": [
      "enter no 45\n"
     ]
    },
    {
     "name": "stdout",
     "output_type": "stream",
     "text": [
      "not a 3\n"
     ]
    }
   ],
   "source": [
    "num=int(input(\"enter no\"))\n",
    "if num>=100 and num<=999:\n",
    "    print(\"yes\")\n",
    "else:\n",
    "    print(\"not a 3\")"
   ]
  },
  {
   "cell_type": "code",
   "execution_count": 8,
   "id": "bd93982c-0adb-45f1-ab04-ea5defbf6cd2",
   "metadata": {},
   "outputs": [
    {
     "name": "stdout",
     "output_type": "stream",
     "text": [
      "rahul\n",
      "gandhi\n",
      "sonia\n"
     ]
    }
   ],
   "source": [
    "ename='rahul'\n",
    "enames=['rahul','gandhi','sonia']\n",
    "t=(10,20,30)\n",
    "eids={101,102,103}\n",
    "for ele in enames:\n",
    "    print(ele)"
   ]
  },
  {
   "cell_type": "code",
   "execution_count": 17,
   "id": "090c2b78-77ec-491c-91a2-eb5dbcdbd421",
   "metadata": {},
   "outputs": [
    {
     "name": "stdout",
     "output_type": "stream",
     "text": [
      "1\n",
      "2\n",
      "3\n",
      "4\n",
      "5\n",
      "6\n",
      "7\n",
      "8\n",
      "9\n",
      "10\n"
     ]
    }
   ],
   "source": [
    "for x in range(1,11,1):\n",
    "    print(x)"
   ]
  },
  {
   "cell_type": "code",
   "execution_count": 22,
   "id": "be7911dd-1471-4f5a-87cb-f802a0c6e8e8",
   "metadata": {},
   "outputs": [
    {
     "name": "stdout",
     "output_type": "stream",
     "text": [
      "100\n",
      "96\n",
      "92\n",
      "88\n",
      "84\n",
      "80\n",
      "76\n",
      "72\n",
      "68\n",
      "64\n",
      "60\n",
      "56\n",
      "52\n"
     ]
    }
   ],
   "source": [
    "for x in range(100,50,-4):\n",
    "    print(x)"
   ]
  },
  {
   "cell_type": "code",
   "execution_count": 13,
   "id": "1484b32c-c824-447a-be3a-b4ae94c5625f",
   "metadata": {},
   "outputs": [
    {
     "name": "stdout",
     "output_type": "stream",
     "text": [
      "6 * 1 = 6\n",
      "6 * 2 = 12\n",
      "6 * 3 = 18\n",
      "6 * 4 = 24\n",
      "6 * 5 = 30\n",
      "6 * 6 = 36\n",
      "6 * 7 = 42\n",
      "6 * 8 = 48\n",
      "6 * 9 = 54\n",
      "6 * 10 = 60\n"
     ]
    }
   ],
   "source": [
    "for x in range(1,11):\n",
    "    print(6,\"*\",x,\"=\",6*x)"
   ]
  },
  {
   "cell_type": "code",
   "execution_count": 14,
   "id": "fe264559-d4bb-4637-b2a6-550f82c2e727",
   "metadata": {},
   "outputs": [
    {
     "name": "stdout",
     "output_type": "stream",
     "text": [
      "0\n",
      "2\n",
      "4\n",
      "6\n",
      "8\n",
      "10\n",
      "12\n",
      "14\n",
      "16\n",
      "18\n"
     ]
    }
   ],
   "source": [
    "for x in range(0,19,2):\n",
    "    print(x)"
   ]
  },
  {
   "cell_type": "code",
   "execution_count": 23,
   "id": "1accb1d6-618c-4c22-8f0d-4b9ca68f4846",
   "metadata": {},
   "outputs": [
    {
     "name": "stdout",
     "output_type": "stream",
     "text": [
      "0\t2\t4\t6\t8\t10\t12\t14\t16\t18\t"
     ]
    }
   ],
   "source": [
    "for x in range(0,19,2):\n",
    "    print(x,end=\"\\t\")"
   ]
  },
  {
   "cell_type": "code",
   "execution_count": 25,
   "id": "1f665d7e-4563-4872-a2b3-23cc22e17586",
   "metadata": {},
   "outputs": [
    {
     "name": "stdout",
     "output_type": "stream",
     "text": [
      "id : 1\n",
      "name : rahul\n",
      "sal : 45000\n"
     ]
    }
   ],
   "source": [
    "emp={\n",
    "    'id':'1',\n",
    "    'name':'rahul',\n",
    "    'sal':45000\n",
    "}\n",
    "for ele,value in emp.items():\n",
    "    print(ele,\":\",value)"
   ]
  },
  {
   "cell_type": "code",
   "execution_count": 21,
   "id": "3bd4f5bc-fee0-418f-8231-4edf727e4d68",
   "metadata": {},
   "outputs": [
    {
     "name": "stdout",
     "output_type": "stream",
     "text": [
      "good morninggood morninggood morninggood morninggood morninggood morninggood morninggood morninggood morninggood morning\n"
     ]
    }
   ],
   "source": [
    "a=['good morning']\n",
    "for ele in a:\n",
    "    print(ele*10)"
   ]
  },
  {
   "cell_type": "code",
   "execution_count": 26,
   "id": "80675ed9-962b-40e3-a6c6-bd5b191beb2f",
   "metadata": {},
   "outputs": [
    {
     "name": "stdout",
     "output_type": "stream",
     "text": [
      "\n",
      "* \n",
      "* * \n",
      "* * * \n",
      "* * * * \n"
     ]
    }
   ],
   "source": [
    "for i in range(0,5):\n",
    "    for j in range(i):\n",
    "        print(\"*\",end=\" \")\n",
    "    print()"
   ]
  },
  {
   "cell_type": "code",
   "execution_count": null,
   "id": "ba32783c-1611-43b7-8d39-247d829e18e7",
   "metadata": {},
   "outputs": [],
   "source": []
  }
 ],
 "metadata": {
  "kernelspec": {
   "display_name": "Python 3 (ipykernel)",
   "language": "python",
   "name": "python3"
  },
  "language_info": {
   "codemirror_mode": {
    "name": "ipython",
    "version": 3
   },
   "file_extension": ".py",
   "mimetype": "text/x-python",
   "name": "python",
   "nbconvert_exporter": "python",
   "pygments_lexer": "ipython3",
   "version": "3.12.5"
  }
 },
 "nbformat": 4,
 "nbformat_minor": 5
}
