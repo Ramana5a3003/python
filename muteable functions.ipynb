{
 "cells": [
  {
   "cell_type": "code",
   "execution_count": 2,
   "id": "04e969a1",
   "metadata": {},
   "outputs": [
    {
     "name": "stdout",
     "output_type": "stream",
     "text": [
      "10\n",
      "20\n",
      "250\n",
      "225\n"
     ]
    }
   ],
   "source": [
    "l1=[10,20,250,225]\n",
    "b=bytes(l1)\n",
    "for x in b:\n",
    "    print(x)"
   ]
  },
  {
   "cell_type": "code",
   "execution_count": 3,
   "id": "75f28273",
   "metadata": {},
   "outputs": [
    {
     "name": "stdout",
     "output_type": "stream",
     "text": [
      "<class 'bytes'>\n",
      "<class 'bytearray'>\n"
     ]
    }
   ],
   "source": [
    "l1=[10,20,30,225]\n",
    "b=bytes(l1)\n",
    "ba=bytearray(l1)\n",
    "print(type(b))\n",
    "print(type(ba))"
   ]
  },
  {
   "cell_type": "code",
   "execution_count": 4,
   "id": "37355533",
   "metadata": {},
   "outputs": [
    {
     "name": "stdout",
     "output_type": "stream",
     "text": [
      "10\n",
      "20\n",
      "30\n",
      "225\n",
      "40\n"
     ]
    }
   ],
   "source": [
    "l1=[10,20,30,225]\n",
    "b=bytes(l1)\n",
    "ba=bytearray(l1)\n",
    "ba.append(40)\n",
    "for ele in ba:\n",
    "    print(ele)"
   ]
  },
  {
   "cell_type": "code",
   "execution_count": null,
   "id": "3903aec5",
   "metadata": {},
   "outputs": [],
   "source": []
  }
 ],
 "metadata": {
  "kernelspec": {
   "display_name": "Python 3",
   "language": "python",
   "name": "python3"
  },
  "language_info": {
   "codemirror_mode": {
    "name": "ipython",
    "version": 3
   },
   "file_extension": ".py",
   "mimetype": "text/x-python",
   "name": "python",
   "nbconvert_exporter": "python",
   "pygments_lexer": "ipython3",
   "version": "3.6.8"
  }
 },
 "nbformat": 4,
 "nbformat_minor": 5
}
