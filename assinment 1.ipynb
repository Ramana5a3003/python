{
 "cells": [
  {
   "cell_type": "code",
   "execution_count": 2,
   "id": "aa728c69-7c75-4b37-9642-709bed3df63c",
   "metadata": {},
   "outputs": [
    {
     "name": "stdout",
     "output_type": "stream",
     "text": [
      "910\n"
     ]
    }
   ],
   "source": [
    "#program to read 2 numbers from the keyboard and print sum\n",
    "a=303\n",
    "b=607\n",
    "print(a+b)"
   ]
  },
  {
   "cell_type": "code",
   "execution_count": 16,
   "id": "1c641c22-dfea-462b-8bf8-76bb48624c52",
   "metadata": {},
   "outputs": [
    {
     "name": "stdin",
     "output_type": "stream",
     "text": [
      "Enter three values:  lokesh reddy cse\n"
     ]
    },
    {
     "name": "stdout",
     "output_type": "stream",
     "text": [
      "Enter Your First Name:  lokesh\n",
      "Enter Your Last Name:  reddy\n",
      "Enter Your Class:  cse\n",
      "\n"
     ]
    }
   ],
   "source": [
    "#read multiple values from the keyboard in a single line\n",
    "a, b, c = input(\"Enter three values: \").split()  \n",
    "print(\"Enter Your First Name: \", a)  \n",
    "print(\"Enter Your Last Name: \", b)  \n",
    "print(\"Enter Your Class: \", c) \n",
    "\n",
    "print()  "
   ]
  },
  {
   "cell_type": "code",
   "execution_count": null,
   "id": "4c467aff-e042-4c28-8a04-4287028c11d8",
   "metadata": {},
   "outputs": [],
   "source": [
    "#program to check if a number is divisible by 7 or not\n"
   ]
  }
 ],
 "metadata": {
  "kernelspec": {
   "display_name": "Python 3 (ipykernel)",
   "language": "python",
   "name": "python3"
  },
  "language_info": {
   "codemirror_mode": {
    "name": "ipython",
    "version": 3
   },
   "file_extension": ".py",
   "mimetype": "text/x-python",
   "name": "python",
   "nbconvert_exporter": "python",
   "pygments_lexer": "ipython3",
   "version": "3.12.5"
  }
 },
 "nbformat": 4,
 "nbformat_minor": 5
}
