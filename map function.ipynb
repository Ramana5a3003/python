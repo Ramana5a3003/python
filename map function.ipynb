{
 "cells": [
  {
   "cell_type": "code",
   "execution_count": 3,
   "id": "384cd210-32a4-4089-a4ef-16150003af2a",
   "metadata": {},
   "outputs": [
    {
     "name": "stdout",
     "output_type": "stream",
     "text": [
      "rahul\n"
     ]
    }
   ],
   "source": [
    "def update(name):\n",
    "    return name.lower()\n",
    "\n",
    "name= update(\"RAHUL\")\n",
    "print(name)"
   ]
  },
  {
   "cell_type": "code",
   "execution_count": 5,
   "id": "d3002a3d-8ffb-4890-b0c6-f7c911775f96",
   "metadata": {},
   "outputs": [
    {
     "name": "stdout",
     "output_type": "stream",
     "text": [
      "[10, 20, 30, 40]\n",
      "[11, 21, 31, 41]\n"
     ]
    }
   ],
   "source": [
    "numbers=[10,20,30,40]\n",
    "#add 1 to every element and cteate new list\n",
    "def addpluse(num):\n",
    "    return num+1\n",
    "\n",
    "map_object=map(addpluse,numbers)\n",
    "new_numbers=list(map_object)\n",
    "print(numbers)\n",
    "print(new_numbers)"
   ]
  },
  {
   "cell_type": "code",
   "execution_count": null,
   "id": "c3999da9-6313-40dc-99e0-3d29bf852c4d",
   "metadata": {},
   "outputs": [],
   "source": [
    "enames=['rahul','sonia,'ghandhi']\n",
    "#convert the elements in to upper case\n",
    "new_enames="
   ]
  },
  {
   "cell_type": "code",
   "execution_count": 15,
   "id": "d20bc46d-ed6a-44d2-80d7-209ef1d74781",
   "metadata": {},
   "outputs": [
    {
     "name": "stdout",
     "output_type": "stream",
     "text": [
      "[1000, 50, 20, 30, 500, 600, 2000]\n",
      "[1000, 50, 20, 30, 500, 600]\n"
     ]
    }
   ],
   "source": [
    "product_prices=[1000,50,20,30,500,600,2000]\n",
    "#display all product price below 1000\n",
    "new_prices=[]\n",
    "for prices in product_prices:\n",
    "    if prices<=1000:\n",
    "        new_prices.append(prices)\n",
    "\n",
    "print(product_prices)\n",
    "print(new_prices)"
   ]
  },
  {
   "cell_type": "code",
   "execution_count": 18,
   "id": "0ade1586-50eb-404f-a038-9d1051e7548b",
   "metadata": {},
   "outputs": [
    {
     "name": "stdout",
     "output_type": "stream",
     "text": [
      "[2, 2, 2, 2, 2]\n",
      "set()\n",
      "()\n"
     ]
    }
   ],
   "source": [
    "# with map function\n",
    "def plusone(ele):\n",
    "    return ele+1\n",
    "\n",
    "numbers=[1,1,1,1,1]\n",
    "map_obj=map(plusone,numbers)\n",
    "l=list(map_obj)\n",
    "s=set(map_obj)\n",
    "t=tuple(map_obj)\n",
    "print(l)\n",
    "print(s)\n",
    "print(t)"
   ]
  },
  {
   "cell_type": "code",
   "execution_count": 19,
   "id": "4099d964-d99b-4b23-b5e3-7272d3a4c286",
   "metadata": {},
   "outputs": [
    {
     "name": "stdout",
     "output_type": "stream",
     "text": [
      "[2, 2, 2, 2, 2]\n",
      "set()\n",
      "()\n"
     ]
    }
   ],
   "source": [
    "#with lambda function+\n",
    "def plusone(ele):\n",
    "    return ele+1\n",
    "\n",
    "numbers=[1,1,1,1,1]\n",
    "map_obj=map(lambda num:num+1,numbers)\n",
    "l=list(map_obj)\n",
    "s=set(map_obj)\n",
    "t=tuple(map_obj)\n",
    "print(l)\n",
    "print(s)\n",
    "print(t)"
   ]
  },
  {
   "cell_type": "code",
   "execution_count": 21,
   "id": "5c9796a5-c316-4a29-9d4a-31a72078a23a",
   "metadata": {},
   "outputs": [
    {
     "name": "stdout",
     "output_type": "stream",
     "text": [
      "[{'id': 1, 'name': 'marketr pen', 'catagory': 'st'}, {'id': 3, 'name': ' millets', 'catagory': 'st'}, {'id': 5, 'name': ' dal', 'catagory': 'st'}]\n",
      "[{'id': 2, 'name': ' rice', 'catagory': 'gr'}, {'id': 4, 'name': ' duster', 'catagory': 'gr'}]\n"
     ]
    }
   ],
   "source": [
    "products=[\n",
    "    {'id':1,'name':'marketr pen','catagory':'st'},\n",
    "    {'id':2,'name':' rice','catagory':'gr'},\n",
    "    {'id':3,'name':' millets','catagory':'st'},\n",
    "    {'id':4,'name':' duster','catagory':'gr'},\n",
    "    {'id':5,'name':' dal','catagory':'st'}\n",
    "]\n",
    "st_products=[]\n",
    "gr_products=[]\n",
    "\n",
    "for product in products:\n",
    "    if product['catagory'] =='st':\n",
    "        st_products.append(product)\n",
    "    else:\n",
    "        gr_products.append(product)\n",
    "\n",
    "print(st_products)\n",
    "print(gr_products)"
   ]
  },
  {
   "cell_type": "code",
   "execution_count": 22,
   "id": "55c77ccd-8bea-48cc-aca7-b7d5e85a290a",
   "metadata": {},
   "outputs": [
    {
     "name": "stdout",
     "output_type": "stream",
     "text": [
      "[{'id': 1, 'name': 'marketr pen', 'catagory': 'st'}, {'id': 3, 'name': ' millets', 'catagory': 'st'}, {'id': 5, 'name': ' dal', 'catagory': 'st'}]\n"
     ]
    }
   ],
   "source": [
    "# using filter function\n",
    "products=[\n",
    "    {'id':1,'name':'marketr pen','catagory':'st'},\n",
    "    {'id':2,'name':' rice','catagory':'gr'},\n",
    "    {'id':3,'name':' millets','catagory':'st'},\n",
    "    {'id':4,'name':' duster','catagory':'gr'},\n",
    "    {'id':5,'name':' dal','catagory':'st'}\n",
    "]\n",
    "def filterdata(product):\n",
    "    if product['catagory']=='st':\n",
    "        return True\n",
    "    else:\n",
    "        return False\n",
    "\n",
    "print(list(filter(filterdata,products)))"
   ]
  },
  {
   "cell_type": "code",
   "execution_count": 24,
   "id": "371d994c-dad5-498e-9ea1-82068cc65784",
   "metadata": {},
   "outputs": [
    {
     "name": "stdout",
     "output_type": "stream",
     "text": [
      "[{'id': 1, 'name': 'marketr pen', 'catagory': 'st'}, {'id': 3, 'name': ' millets', 'catagory': 'st'}, {'id': 5, 'name': ' dal', 'catagory': 'st'}]\n"
     ]
    }
   ],
   "source": [
    "#using map in filter function\n",
    "products=[\n",
    "    {'id':1,'name':'marketr pen','catagory':'st'},\n",
    "    {'id':2,'name':' rice','catagory':'gr'},\n",
    "    {'id':3,'name':' millets','catagory':'st'},\n",
    "    {'id':4,'name':' duster','catagory':'gr'},\n",
    "    {'id':5,'name':' dal','catagory':'st'}\n",
    "]\n",
    "def filterdata(product):\n",
    "    if product['catagory']=='st':\n",
    "        return True\n",
    "    else:\n",
    "        return False\n",
    "filter_obj=filter(filterdata,products)\n",
    "st_products=list(filter_obj)\n",
    "print(st_products)"
   ]
  },
  {
   "cell_type": "code",
   "execution_count": null,
   "id": "f175bf1d-8149-4b87-a35e-cf692795b058",
   "metadata": {},
   "outputs": [],
   "source": []
  }
 ],
 "metadata": {
  "kernelspec": {
   "display_name": "Python 3 (ipykernel)",
   "language": "python",
   "name": "python3"
  },
  "language_info": {
   "codemirror_mode": {
    "name": "ipython",
    "version": 3
   },
   "file_extension": ".py",
   "mimetype": "text/x-python",
   "name": "python",
   "nbconvert_exporter": "python",
   "pygments_lexer": "ipython3",
   "version": "3.12.5"
  }
 },
 "nbformat": 4,
 "nbformat_minor": 5
}
