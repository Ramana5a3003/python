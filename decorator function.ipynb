{
 "cells": [
  {
   "cell_type": "code",
   "execution_count": null,
   "id": "9add9ba7-83c9-4ac4-9377-e18f815f5588",
   "metadata": {},
   "outputs": [],
   "source": [
    "#decorator is a function,it take function as org; it modifies functionality based on require return the modified function"
   ]
  },
  {
   "cell_type": "code",
   "execution_count": 3,
   "id": "c304fcdd-f6ad-4136-b00c-698f5225246d",
   "metadata": {},
   "outputs": [
    {
     "name": "stdout",
     "output_type": "stream",
     "text": [
      "5.0\n"
     ]
    },
    {
     "ename": "ZeroDivisionError",
     "evalue": "division by zero",
     "output_type": "error",
     "traceback": [
      "\u001b[1;31m---------------------------------------------------------------------------\u001b[0m",
      "\u001b[1;31mZeroDivisionError\u001b[0m                         Traceback (most recent call last)",
      "Cell \u001b[1;32mIn[3], line 4\u001b[0m\n\u001b[0;32m      2\u001b[0m     \u001b[38;5;28mprint\u001b[39m(a\u001b[38;5;241m/\u001b[39mb)\n\u001b[0;32m      3\u001b[0m calc(\u001b[38;5;241m10\u001b[39m,\u001b[38;5;241m2\u001b[39m)    \n\u001b[1;32m----> 4\u001b[0m \u001b[43mcalc\u001b[49m\u001b[43m(\u001b[49m\u001b[38;5;241;43m10\u001b[39;49m\u001b[43m,\u001b[49m\u001b[38;5;241;43m0\u001b[39;49m\u001b[43m)\u001b[49m\n",
      "Cell \u001b[1;32mIn[3], line 2\u001b[0m, in \u001b[0;36mcalc\u001b[1;34m(a, b)\u001b[0m\n\u001b[0;32m      1\u001b[0m \u001b[38;5;28;01mdef\u001b[39;00m \u001b[38;5;21mcalc\u001b[39m (a,b):\n\u001b[1;32m----> 2\u001b[0m     \u001b[38;5;28mprint\u001b[39m(\u001b[43ma\u001b[49m\u001b[38;5;241;43m/\u001b[39;49m\u001b[43mb\u001b[49m)\n",
      "\u001b[1;31mZeroDivisionError\u001b[0m: division by zero"
     ]
    }
   ],
   "source": [
    "def calc (a,b):\n",
    "    print(a/b)\n",
    "calc(10,2)    \n",
    "calc(10,0)"
   ]
  },
  {
   "cell_type": "code",
   "execution_count": 4,
   "id": "7c3074e5-5e90-4072-9ddb-09bacb268725",
   "metadata": {},
   "outputs": [
    {
     "ename": "NameError",
     "evalue": "name 'testcase' is not defined",
     "output_type": "error",
     "traceback": [
      "\u001b[1;31m---------------------------------------------------------------------------\u001b[0m",
      "\u001b[1;31mNameError\u001b[0m                                 Traceback (most recent call last)",
      "Cell \u001b[1;32mIn[4], line 1\u001b[0m\n\u001b[1;32m----> 1\u001b[0m \u001b[38;5;129m@testcase\u001b[39m\n\u001b[0;32m      2\u001b[0m \u001b[38;5;28;01mdef\u001b[39;00m \u001b[38;5;21mcalc\u001b[39m (a,b):\n\u001b[0;32m      3\u001b[0m     \u001b[38;5;28mprint\u001b[39m(a\u001b[38;5;241m/\u001b[39mb)\n\u001b[0;32m      4\u001b[0m calc(\u001b[38;5;241m10\u001b[39m,\u001b[38;5;241m2\u001b[39m)    \n",
      "\u001b[1;31mNameError\u001b[0m: name 'testcase' is not defined"
     ]
    }
   ],
   "source": [
    "@testcase\n",
    "def calc (a,b):\n",
    "    print(a/b)\n",
    "calc(10,2)    \n",
    "calc(10,0)"
   ]
  },
  {
   "cell_type": "code",
   "execution_count": 5,
   "id": "d84545e3-11ac-4c66-80f8-1e3786efa39e",
   "metadata": {},
   "outputs": [
    {
     "name": "stdout",
     "output_type": "stream",
     "text": [
      "5.0\n",
      "cant't divide by zero\n"
     ]
    }
   ],
   "source": [
    "def testcase(func):\n",
    "    def inner(a,b):\n",
    "        if b==0:\n",
    "            print(\"cant't divide by zero\")\n",
    "        else:\n",
    "            return func(a,b)\n",
    "    return inner\n",
    "\n",
    "@testcase\n",
    "def calc (a,b):\n",
    "    print(a/b)\n",
    "calc(10,2)    \n",
    "calc(10,0)"
   ]
  },
  {
   "cell_type": "code",
   "execution_count": null,
   "id": "31d418f8-10f5-4665-ac14-4d5d5091d7e2",
   "metadata": {},
   "outputs": [],
   "source": []
  }
 ],
 "metadata": {
  "kernelspec": {
   "display_name": "Python 3 (ipykernel)",
   "language": "python",
   "name": "python3"
  },
  "language_info": {
   "codemirror_mode": {
    "name": "ipython",
    "version": 3
   },
   "file_extension": ".py",
   "mimetype": "text/x-python",
   "name": "python",
   "nbconvert_exporter": "python",
   "pygments_lexer": "ipython3",
   "version": "3.12.5"
  }
 },
 "nbformat": 4,
 "nbformat_minor": 5
}
