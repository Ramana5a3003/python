{
 "cells": [
  {
   "cell_type": "code",
   "execution_count": 1,
   "id": "8f9f733a",
   "metadata": {},
   "outputs": [
    {
     "name": "stdout",
     "output_type": "stream",
     "text": [
      "786\n"
     ]
    }
   ],
   "source": [
    "a=786\n",
    "print(a)"
   ]
  },
  {
   "cell_type": "code",
   "execution_count": 2,
   "id": "fb4ce51d",
   "metadata": {},
   "outputs": [
    {
     "name": "stdout",
     "output_type": "stream",
     "text": [
      "7\n"
     ]
    }
   ],
   "source": [
    "b=0b111\n",
    "print(b)"
   ]
  },
  {
   "cell_type": "code",
   "execution_count": 3,
   "id": "9aafeec0",
   "metadata": {},
   "outputs": [
    {
     "name": "stdout",
     "output_type": "stream",
     "text": [
      "87\n"
     ]
    }
   ],
   "source": [
    "c=0o127\n",
    "print(c)"
   ]
  },
  {
   "cell_type": "code",
   "execution_count": 4,
   "id": "603f4c9b",
   "metadata": {},
   "outputs": [
    {
     "name": "stdout",
     "output_type": "stream",
     "text": [
      "0b1100010010\n"
     ]
    }
   ],
   "source": [
    "print(bin(a))"
   ]
  },
  {
   "cell_type": "code",
   "execution_count": 5,
   "id": "6d7371ba",
   "metadata": {},
   "outputs": [
    {
     "name": "stdout",
     "output_type": "stream",
     "text": [
      "0o127\n"
     ]
    }
   ],
   "source": [
    "d=87\n",
    "print(oct(d))"
   ]
  },
  {
   "cell_type": "code",
   "execution_count": 6,
   "id": "13ce52fc",
   "metadata": {},
   "outputs": [
    {
     "name": "stdout",
     "output_type": "stream",
     "text": [
      "0b1110000001\n",
      "897\n",
      "0o1601\n",
      "0x381\n"
     ]
    }
   ],
   "source": [
    "a=897\n",
    "print(bin(a))\n",
    "print(int(a))\n",
    "print(oct(a))\n",
    "print(hex(a))"
   ]
  },
  {
   "cell_type": "code",
   "execution_count": 7,
   "id": "40f3a2e3",
   "metadata": {},
   "outputs": [
    {
     "name": "stdout",
     "output_type": "stream",
     "text": [
      "897\n",
      "897\n",
      "897\n",
      "897\n"
     ]
    }
   ],
   "source": [
    "a=0b1110000001\n",
    "b=897\n",
    "c=0o1601\n",
    "d=0x381\n",
    "print(a)\n",
    "print(b)\n",
    "print(c)\n",
    "print(d)"
   ]
  },
  {
   "cell_type": "code",
   "execution_count": 8,
   "id": "f1f1a4e7",
   "metadata": {},
   "outputs": [
    {
     "name": "stdout",
     "output_type": "stream",
     "text": [
      "45000\n"
     ]
    }
   ],
   "source": [
    "esal=45000\n",
    "esal=int(esal)\n",
    "print(esal)"
   ]
  },
  {
   "cell_type": "code",
   "execution_count": 9,
   "id": "1b422082",
   "metadata": {},
   "outputs": [
    {
     "name": "stdout",
     "output_type": "stream",
     "text": [
      "<class 'str'>\n",
      "45000\n",
      "<class 'int'>\n"
     ]
    }
   ],
   "source": [
    "esal=\"45000\"\n",
    "print(type(esal))\n",
    "\n",
    "esal=int(esal)\n",
    "print(esal)\n",
    "print(type(esal))"
   ]
  },
  {
   "cell_type": "code",
   "execution_count": 12,
   "id": "65b600e0",
   "metadata": {},
   "outputs": [
    {
     "name": "stdout",
     "output_type": "stream",
     "text": [
      "<class 'float'>\n",
      "45000\n",
      "<class 'int'>\n"
     ]
    }
   ],
   "source": [
    "esal=45000.45\n",
    "print(type(esal))\n",
    "\n",
    "esal=int(esal)\n",
    "print(esal)\n",
    "print(type(esal))"
   ]
  },
  {
   "cell_type": "code",
   "execution_count": 14,
   "id": "a08269c4",
   "metadata": {
    "scrolled": true
   },
   "outputs": [
    {
     "name": "stdout",
     "output_type": "stream",
     "text": [
      "Enter first number10\n",
      "Enter second number20\n",
      "30\n"
     ]
    }
   ],
   "source": [
    "a=int(input(\"Enter first number\"))\n",
    "b=int(input(\"Enter second number\"))\n",
    "print(a+b)"
   ]
  },
  {
   "cell_type": "code",
   "execution_count": 19,
   "id": "c1bfc067",
   "metadata": {},
   "outputs": [
    {
     "name": "stdout",
     "output_type": "stream",
     "text": [
      "hellogood morning\n"
     ]
    }
   ],
   "source": [
    "print(\"hello\",end=\"\")\n",
    "print(\"good morning\")\n"
   ]
  },
  {
   "cell_type": "code",
   "execution_count": 23,
   "id": "1d0e5ad7",
   "metadata": {},
   "outputs": [
    {
     "name": "stdout",
     "output_type": "stream",
     "text": [
      "10,20,30,\n",
      "ends with :\n",
      "10:20:30:"
     ]
    }
   ],
   "source": [
    "a=10\n",
    "b=20\n",
    "c=30\n",
    "print(a,end=\",\")\n",
    "print(b,end=\",\")\n",
    "print(c,end=\",\")\n",
    "print()\n",
    "print(\"ends with :\")\n",
    "print(a,end=\":\")\n",
    "print(b,end=\":\")\n",
    "print(c,end=\":\")"
   ]
  },
  {
   "cell_type": "code",
   "execution_count": 24,
   "id": "2d714212",
   "metadata": {},
   "outputs": [
    {
     "name": "stdout",
     "output_type": "stream",
     "text": [
      "True\n"
     ]
    }
   ],
   "source": [
    "a=45\n",
    "print(bool(a))"
   ]
  },
  {
   "cell_type": "code",
   "execution_count": 26,
   "id": "541f287d",
   "metadata": {},
   "outputs": [
    {
     "name": "stdout",
     "output_type": "stream",
     "text": [
      "False\n"
     ]
    }
   ],
   "source": [
    "b=0.00\n",
    "print(bool(b))"
   ]
  },
  {
   "cell_type": "code",
   "execution_count": 27,
   "id": "f3747cbe",
   "metadata": {},
   "outputs": [
    {
     "name": "stdout",
     "output_type": "stream",
     "text": [
      "True\n"
     ]
    }
   ],
   "source": [
    "c=0.001\n",
    "print(bool(c))"
   ]
  },
  {
   "cell_type": "code",
   "execution_count": null,
   "id": "921c8cc4",
   "metadata": {},
   "outputs": [],
   "source": []
  }
 ],
 "metadata": {
  "kernelspec": {
   "display_name": "Python 3",
   "language": "python",
   "name": "python3"
  },
  "language_info": {
   "codemirror_mode": {
    "name": "ipython",
    "version": 3
   },
   "file_extension": ".py",
   "mimetype": "text/x-python",
   "name": "python",
   "nbconvert_exporter": "python",
   "pygments_lexer": "ipython3",
   "version": "3.6.8"
  }
 },
 "nbformat": 4,
 "nbformat_minor": 5
}
